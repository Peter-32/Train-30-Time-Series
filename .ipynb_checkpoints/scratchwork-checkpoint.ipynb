{
 "cells": [
  {
   "cell_type": "code",
   "execution_count": 8,
   "metadata": {},
   "outputs": [],
   "source": [
    "import pandas as pd\n",
    "# import seaborn as sns\n",
    "# import numpy as np\n",
    "# import matplotlib as mpl\n",
    "# import matplotlib.pyplot as plt\n",
    "# import missingno as msno\n",
    "from pandasql import sqldf\n",
    "\n",
    "# from sklearn.preprocessing import StandardScaler\n",
    "# from sklearn.metrics import mean_squared_error\n",
    "# from sklearn import linear_model, neighbors, tree, svm, ensemble\n",
    "# from xgboost import XGBRegressor\n",
    "# from sklearn.pipeline import make_pipeline\n",
    "# from tpot.builtins import StackingEstimator\n",
    "# from sklearn.model_selection import KFold\n",
    "# from sklearn.model_selection import cross_val_score\n",
    "# from sklearn.grid_search import GridSearchCV\n",
    "# from sklearn.pipeline import Pipeline\n",
    "# from scipy.stats import boxcox\n",
    "# from scipy.special import inv_boxcox\n",
    "q = lambda q: sqldf(q, globals())\n",
    "# mpl.rcParams['figure.figsize'] = (16.0, 16.0)\n",
    "\n",
    "df = pd.read_csv(\"data/historical_product_demand.csv\")"
   ]
  },
  {
   "cell_type": "code",
   "execution_count": 9,
   "metadata": {},
   "outputs": [
    {
     "name": "stdout",
     "output_type": "stream",
     "text": [
      "                          model_key  count(*)\n",
      "0  Product_0620-Whse_J-Category_001      8456\n",
      "1  Product_1286-Whse_J-Category_019      8888\n",
      "2  Product_1287-Whse_J-Category_019      7829\n",
      "3  Product_1294-Whse_J-Category_019      8384\n",
      "4  Product_1295-Whse_J-Category_019     10575\n",
      "5  Product_1359-Whse_J-Category_019     16936\n",
      "6  Product_1377-Whse_J-Category_019      7872\n",
      "7  Product_1378-Whse_J-Category_019      9770\n",
      "8  Product_1382-Whse_J-Category_019      8619\n",
      "9  Product_1453-Whse_J-Category_019      8503\n"
     ]
    }
   ],
   "source": [
    "df = q(\"\"\"\n",
    "SELECT\n",
    "  Product_Code ||\n",
    "  \"-\" || Warehouse ||\n",
    "  \"-\" || Product_Category AS model_key,\n",
    "Date, Order_Demand\n",
    "from df\"\"\")\n",
    "df = q(\"\"\"select a.* FROM df a INNER JOIN (select model_key, count(*) n FROM df group by 1 order by 2 desc, 1 limit 10) b\n",
    "ON b.model_key = a.model_key\"\"\")\n",
    "# print(q(\"\"\"select model_key, count(*) FROM df group by 1\"\"\"))\n",
    "df.to_csv(\"historical_product_demand_limit10.csv\")\n",
    "\n",
    "# df['Date'] = pd.to_datetime(df['Date'])\n",
    "# df = df.set_index([\"Date\"])\n",
    "\n",
    "\n",
    "\n",
    "\n",
    "\n",
    "# print(df.head())\n",
    "# print(df.dtypes)\n",
    "# print(df.info())\n",
    "# print(df.index)"
   ]
  },
  {
   "cell_type": "code",
   "execution_count": null,
   "metadata": {},
   "outputs": [],
   "source": []
  }
 ],
 "metadata": {
  "kernelspec": {
   "display_name": "commons",
   "language": "python",
   "name": "commons"
  },
  "language_info": {
   "codemirror_mode": {
    "name": "ipython",
    "version": 3
   },
   "file_extension": ".py",
   "mimetype": "text/x-python",
   "name": "python",
   "nbconvert_exporter": "python",
   "pygments_lexer": "ipython3",
   "version": "3.6.1"
  }
 },
 "nbformat": 4,
 "nbformat_minor": 2
}
